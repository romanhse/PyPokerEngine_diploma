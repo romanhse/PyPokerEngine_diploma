{
 "cells": [
  {
   "cell_type": "code",
   "execution_count": null,
   "id": "5332c6fc",
   "metadata": {},
   "outputs": [],
   "source": [
    "from pypokerengine.api.game import setup_config, start_poker\n",
    "from pypokerengine.players import BasePokerPlayer\n",
    "\n",
    "# Define your human player\n",
    "class HumanPlayer(BasePokerPlayer):\n",
    "    def declare_action(self, valid_actions, hole_card, round_state):\n",
    "        print(f\"Your cards: {hole_card}\")\n",
    "        print(f\"Valid actions: {valid_actions}\")\n",
    "        action = None\n",
    "        while action not in [a['action'] for a in valid_actions]:\n",
    "            action = input(\"Choose your action: \")\n",
    "        # Find the action in valid_actions to get its amount (needed for 'raise')\n",
    "        for va in valid_actions:\n",
    "            if va['action'] == action:\n",
    "                amount = va.get('amount', 0)\n",
    "        return action, amount\n",
    "\n",
    "    def receive_game_start_message(self, game_info):\n",
    "        pass\n",
    "    def receive_round_start_message(self, round_count, hole_card, seats):\n",
    "        pass\n",
    "    def receive_street_start_message(self, street, round_state):\n",
    "        pass\n",
    "    def receive_game_update_message(self, action, round_state):\n",
    "        pass\n",
    "    def receive_round_result_message(self, winners, hand_info, round_state):\n",
    "        pass\n",
    "\n",
    "# Define a stub for DeepSeek LLM agent (replace logic with actual API calls)\n",
    "class DeepSeekLLMPlayer(BasePokerPlayer):\n",
    "\n",
    "    def declare_action(self, valid_actions, hole_card, round_state):\n",
    "        import random\n",
    "        chosen_action = random.choice(valid_actions)\n",
    "        print(f\"[DeepSeek] chooses: {chosen_action['action']} {chosen_action.get('amount', '')}\")\n",
    "        return chosen_action['action'], chosen_action.get('amount', 0)\n",
    "\n",
    "    # Implement (or leave blank) other BasePokerPlayer methods as needed\n",
    "    def receive_game_start_message(self, game_info): pass\n",
    "    def receive_round_start_message(self, round_count, hole_card, seats): pass\n",
    "    def receive_street_start_message(self, street, round_state): pass\n",
    "    def receive_game_update_message(self, action, round_state): pass\n",
    "    def receive_round_result_message(self, winners, hand_info, round_state): pass\n",
    "\n",
    "# Step 3: Game setup and simulation loop\n",
    "if __name__ == \"__main__\":\n",
    "    config = setup_config(max_round=5, initial_stack=1000, small_blind_amount=10)\n",
    "    config.register_player(name=\"Me\", algorithm=HumanPlayer())\n",
    "    config.register_player(name=\"DeepSeek\", algorithm=DeepSeekLLMPlayer())\n",
    "\n",
    "    game_result = start_poker(config, verbose=1)\n",
    "\n",
    "    print(\"Game Over!\")\n",
    "    print(game_result['players'])  # Final stack info\n",
    "    print(\"Hand histories available for post-processing and analysis.\")\n"
   ]
  }
 ],
 "metadata": {
  "kernelspec": {
   "display_name": "Python 3",
   "language": "python",
   "name": "python3"
  },
  "language_info": {
   "codemirror_mode": {
    "name": "ipython",
    "version": 3
   },
   "file_extension": ".py",
   "mimetype": "text/x-python",
   "name": "python",
   "nbconvert_exporter": "python",
   "pygments_lexer": "ipython3",
   "version": "3.7.5"
  }
 },
 "nbformat": 4,
 "nbformat_minor": 5
}
